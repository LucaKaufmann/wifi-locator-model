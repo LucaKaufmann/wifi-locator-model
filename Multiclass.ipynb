{
 "cells": [
  {
   "cell_type": "code",
   "execution_count": 1,
   "metadata": {},
   "outputs": [
    {
     "name": "stderr",
     "output_type": "stream",
     "text": [
      "/Users/luca/anaconda3/envs/kerasenv/lib/python3.6/site-packages/h5py/__init__.py:36: FutureWarning: Conversion of the second argument of issubdtype from `float` to `np.floating` is deprecated. In future, it will be treated as `np.float64 == np.dtype(float).type`.\n",
      "  from ._conv import register_converters as _register_converters\n",
      "Using TensorFlow backend.\n"
     ]
    }
   ],
   "source": [
    "import numpy as np # linear algebra\n",
    "import pandas as pd # data processing, CSV file I/O (e.g. pd.read_csv)\n",
    "\n",
    "import pandas as pd \n",
    "import seaborn as sns\n",
    "import matplotlib.pyplot as plt\n",
    "from sklearn.preprocessing import StandardScaler\n",
    "\n",
    "import numpy as np \n",
    "import pandas as pd \n",
    "import pandas as pd \n",
    "import numpy as np \n",
    "import scipy as sp \n",
    "import sklearn\n",
    "import random \n",
    "import time \n",
    "\n",
    "from sklearn import preprocessing, model_selection\n",
    "\n",
    "\n",
    "from keras.models import Sequential \n",
    "from keras.layers import Dense \n",
    "from keras.utils import np_utils\n",
    "from sklearn.preprocessing import LabelEncoder\n",
    "from keras.utils.np_utils import to_categorical\n",
    "from sklearn.utils import shuffle\n",
    "\n",
    "\n"
   ]
  },
  {
   "cell_type": "code",
   "execution_count": 5,
   "metadata": {},
   "outputs": [],
   "source": [
    "data = pd.read_csv('./data/wifi_values.csv')\n",
    "data.mac = pd.factorize(df.mac)[0]"
   ]
  },
  {
   "cell_type": "code",
   "execution_count": 7,
   "metadata": {},
   "outputs": [],
   "source": [
    "data = shuffle(data)\n",
    "\n",
    "\n",
    "i = 8\n",
    "data_to_predict = data[:i].reset_index(drop = True)\n",
    "predict_room = data_to_predict.location \n",
    "predict_room = np.array(predict_room)\n",
    "prediction = np.array(data_to_predict.drop(['location'],axis= 1))\n",
    "\n",
    "data = data[i:].reset_index(drop = True)"
   ]
  },
  {
   "cell_type": "code",
   "execution_count": 8,
   "metadata": {},
   "outputs": [],
   "source": [
    "X = data.drop(['location'], axis = 1)\n",
    "X = np.array(X)\n",
    "Y = data['location']"
   ]
  },
  {
   "cell_type": "code",
   "execution_count": 9,
   "metadata": {},
   "outputs": [
    {
     "name": "stdout",
     "output_type": "stream",
     "text": [
      "[[1. 0. 0.]\n",
      " [1. 0. 0.]\n",
      " [0. 1. 0.]\n",
      " ...\n",
      " [0. 0. 1.]\n",
      " [0. 1. 0.]\n",
      " [0. 0. 1.]]\n"
     ]
    }
   ],
   "source": [
    "encoder = LabelEncoder()\n",
    "encoder.fit(Y)\n",
    "Y = encoder.transform(Y)\n",
    "Y = np_utils.to_categorical(Y)\n",
    "print(Y)"
   ]
  },
  {
   "cell_type": "code",
   "execution_count": 12,
   "metadata": {},
   "outputs": [],
   "source": [
    "train_x, test_x, train_y, test_y = model_selection.train_test_split(X,Y,test_size = 0.1, random_state = 0)"
   ]
  },
  {
   "cell_type": "code",
   "execution_count": 17,
   "metadata": {},
   "outputs": [
    {
     "name": "stdout",
     "output_type": "stream",
     "text": [
      "Epoch 1/100\n",
      "343/343 [==============================] - 0s 1ms/step - loss: 0.9420 - acc: 0.6851\n",
      "Epoch 2/100\n",
      "343/343 [==============================] - 0s 627us/step - loss: 0.5456 - acc: 0.7464\n",
      "Epoch 3/100\n",
      "343/343 [==============================] - 0s 701us/step - loss: 0.5559 - acc: 0.7493\n",
      "Epoch 4/100\n",
      "343/343 [==============================] - 0s 682us/step - loss: 0.5276 - acc: 0.7493\n",
      "Epoch 5/100\n",
      "343/343 [==============================] - 0s 786us/step - loss: 0.5181 - acc: 0.7522\n",
      "Epoch 6/100\n",
      "343/343 [==============================] - 0s 812us/step - loss: 0.5013 - acc: 0.7755\n",
      "Epoch 7/100\n",
      "343/343 [==============================] - 0s 796us/step - loss: 0.5046 - acc: 0.7697\n",
      "Epoch 8/100\n",
      "343/343 [==============================] - 0s 820us/step - loss: 0.4851 - acc: 0.7813\n",
      "Epoch 9/100\n",
      "343/343 [==============================] - 0s 689us/step - loss: 0.5076 - acc: 0.7638\n",
      "Epoch 10/100\n",
      "343/343 [==============================] - 0s 690us/step - loss: 0.4800 - acc: 0.7872\n",
      "Epoch 11/100\n",
      "343/343 [==============================] - 0s 628us/step - loss: 0.4967 - acc: 0.7638\n",
      "Epoch 12/100\n",
      "343/343 [==============================] - 0s 607us/step - loss: 0.4717 - acc: 0.8367\n",
      "Epoch 13/100\n",
      "343/343 [==============================] - 0s 615us/step - loss: 0.4482 - acc: 0.8047\n",
      "Epoch 14/100\n",
      "343/343 [==============================] - 0s 611us/step - loss: 0.4662 - acc: 0.8192\n",
      "Epoch 15/100\n",
      "343/343 [==============================] - 0s 689us/step - loss: 0.4318 - acc: 0.8309\n",
      "Epoch 16/100\n",
      "343/343 [==============================] - 0s 672us/step - loss: 0.4165 - acc: 0.8455\n",
      "Epoch 17/100\n",
      "343/343 [==============================] - 0s 634us/step - loss: 0.3965 - acc: 0.8746\n",
      "Epoch 18/100\n",
      "343/343 [==============================] - 0s 655us/step - loss: 0.3874 - acc: 0.8513\n",
      "Epoch 19/100\n",
      "343/343 [==============================] - 0s 743us/step - loss: 0.3678 - acc: 0.8805\n",
      "Epoch 20/100\n",
      "343/343 [==============================] - 0s 675us/step - loss: 0.3490 - acc: 0.9067\n",
      "Epoch 21/100\n",
      "343/343 [==============================] - 0s 719us/step - loss: 0.3454 - acc: 0.8921\n",
      "Epoch 22/100\n",
      "343/343 [==============================] - 0s 781us/step - loss: 0.3030 - acc: 0.9096\n",
      "Epoch 23/100\n",
      "343/343 [==============================] - 0s 677us/step - loss: 0.2922 - acc: 0.8950\n",
      "Epoch 24/100\n",
      "343/343 [==============================] - 0s 652us/step - loss: 0.2400 - acc: 0.9329\n",
      "Epoch 25/100\n",
      "343/343 [==============================] - 0s 691us/step - loss: 0.2167 - acc: 0.9417\n",
      "Epoch 26/100\n",
      "343/343 [==============================] - 0s 658us/step - loss: 0.1933 - acc: 0.9504\n",
      "Epoch 27/100\n",
      "343/343 [==============================] - 0s 616us/step - loss: 0.1895 - acc: 0.9388\n",
      "Epoch 28/100\n",
      "343/343 [==============================] - 0s 619us/step - loss: 0.1624 - acc: 0.9534\n",
      "Epoch 29/100\n",
      "343/343 [==============================] - 0s 689us/step - loss: 0.1809 - acc: 0.9417\n",
      "Epoch 30/100\n",
      "343/343 [==============================] - 0s 657us/step - loss: 0.1588 - acc: 0.9504\n",
      "Epoch 31/100\n",
      "343/343 [==============================] - 0s 672us/step - loss: 0.1515 - acc: 0.9534\n",
      "Epoch 32/100\n",
      "343/343 [==============================] - 0s 649us/step - loss: 0.1519 - acc: 0.9534\n",
      "Epoch 33/100\n",
      "343/343 [==============================] - 0s 678us/step - loss: 0.1568 - acc: 0.9534\n",
      "Epoch 34/100\n",
      "343/343 [==============================] - 0s 647us/step - loss: 0.1379 - acc: 0.9592\n",
      "Epoch 35/100\n",
      "343/343 [==============================] - 0s 655us/step - loss: 0.1405 - acc: 0.9592\n",
      "Epoch 36/100\n",
      "343/343 [==============================] - 0s 650us/step - loss: 0.1511 - acc: 0.9446\n",
      "Epoch 37/100\n",
      "343/343 [==============================] - 0s 684us/step - loss: 0.1399 - acc: 0.9563\n",
      "Epoch 38/100\n",
      "343/343 [==============================] - 0s 680us/step - loss: 0.1398 - acc: 0.9621\n",
      "Epoch 39/100\n",
      "343/343 [==============================] - 0s 690us/step - loss: 0.1354 - acc: 0.9563\n",
      "Epoch 40/100\n",
      "343/343 [==============================] - 0s 698us/step - loss: 0.1504 - acc: 0.9446\n",
      "Epoch 41/100\n",
      "343/343 [==============================] - 0s 679us/step - loss: 0.1440 - acc: 0.9475\n",
      "Epoch 42/100\n",
      "343/343 [==============================] - 0s 684us/step - loss: 0.1431 - acc: 0.9504\n",
      "Epoch 43/100\n",
      "343/343 [==============================] - 0s 669us/step - loss: 0.1309 - acc: 0.9534\n",
      "Epoch 44/100\n",
      "343/343 [==============================] - 0s 683us/step - loss: 0.1504 - acc: 0.9563\n",
      "Epoch 45/100\n",
      "343/343 [==============================] - 0s 672us/step - loss: 0.1318 - acc: 0.9621\n",
      "Epoch 46/100\n",
      "343/343 [==============================] - 0s 677us/step - loss: 0.1295 - acc: 0.9621\n",
      "Epoch 47/100\n",
      "343/343 [==============================] - 0s 651us/step - loss: 0.1349 - acc: 0.9621\n",
      "Epoch 48/100\n",
      "343/343 [==============================] - 0s 820us/step - loss: 0.1360 - acc: 0.9621\n",
      "Epoch 49/100\n",
      "343/343 [==============================] - 0s 799us/step - loss: 0.1252 - acc: 0.9592\n",
      "Epoch 50/100\n",
      "343/343 [==============================] - 0s 794us/step - loss: 0.1434 - acc: 0.9504\n",
      "Epoch 51/100\n",
      "343/343 [==============================] - 0s 741us/step - loss: 0.1399 - acc: 0.9534\n",
      "Epoch 52/100\n",
      "343/343 [==============================] - 0s 705us/step - loss: 0.1352 - acc: 0.9534\n",
      "Epoch 53/100\n",
      "343/343 [==============================] - 0s 588us/step - loss: 0.1254 - acc: 0.9563\n",
      "Epoch 54/100\n",
      "343/343 [==============================] - 0s 557us/step - loss: 0.1470 - acc: 0.9621\n",
      "Epoch 55/100\n",
      "343/343 [==============================] - 0s 552us/step - loss: 0.1358 - acc: 0.9592\n",
      "Epoch 56/100\n",
      "343/343 [==============================] - 0s 593us/step - loss: 0.1409 - acc: 0.9563\n",
      "Epoch 57/100\n",
      "343/343 [==============================] - 0s 579us/step - loss: 0.1321 - acc: 0.9592\n",
      "Epoch 58/100\n",
      "343/343 [==============================] - 0s 564us/step - loss: 0.1472 - acc: 0.9563\n",
      "Epoch 59/100\n",
      "343/343 [==============================] - 0s 688us/step - loss: 0.1416 - acc: 0.9534\n",
      "Epoch 60/100\n",
      "343/343 [==============================] - 0s 770us/step - loss: 0.1313 - acc: 0.9446\n",
      "Epoch 61/100\n",
      "343/343 [==============================] - 0s 744us/step - loss: 0.1643 - acc: 0.9504\n",
      "Epoch 62/100\n",
      "343/343 [==============================] - 0s 716us/step - loss: 0.1470 - acc: 0.9504\n",
      "Epoch 63/100\n",
      "343/343 [==============================] - 0s 768us/step - loss: 0.1400 - acc: 0.9592\n",
      "Epoch 64/100\n",
      "343/343 [==============================] - 0s 716us/step - loss: 0.1389 - acc: 0.9592\n",
      "Epoch 65/100\n",
      "343/343 [==============================] - 0s 852us/step - loss: 0.1243 - acc: 0.9621\n",
      "Epoch 66/100\n",
      "343/343 [==============================] - 0s 950us/step - loss: 0.1312 - acc: 0.9534\n",
      "Epoch 67/100\n",
      "343/343 [==============================] - 0s 842us/step - loss: 0.1281 - acc: 0.9563\n",
      "Epoch 68/100\n",
      "343/343 [==============================] - 0s 737us/step - loss: 0.1788 - acc: 0.9388\n",
      "Epoch 69/100\n",
      "343/343 [==============================] - 0s 681us/step - loss: 0.1297 - acc: 0.9592\n",
      "Epoch 70/100\n",
      "343/343 [==============================] - 0s 670us/step - loss: 0.1287 - acc: 0.9563\n",
      "Epoch 71/100\n",
      "343/343 [==============================] - 0s 669us/step - loss: 0.1252 - acc: 0.9563\n",
      "Epoch 72/100\n",
      "343/343 [==============================] - 0s 655us/step - loss: 0.1279 - acc: 0.9563\n",
      "Epoch 73/100\n",
      "343/343 [==============================] - 0s 686us/step - loss: 0.1271 - acc: 0.9563\n",
      "Epoch 74/100\n",
      "343/343 [==============================] - 0s 679us/step - loss: 0.1217 - acc: 0.9592\n",
      "Epoch 75/100\n",
      "343/343 [==============================] - 0s 767us/step - loss: 0.1318 - acc: 0.9592\n",
      "Epoch 76/100\n",
      "343/343 [==============================] - 0s 633us/step - loss: 0.1254 - acc: 0.9592\n",
      "Epoch 77/100\n",
      "343/343 [==============================] - 0s 657us/step - loss: 0.1286 - acc: 0.9504\n",
      "Epoch 78/100\n",
      "343/343 [==============================] - 0s 666us/step - loss: 0.1250 - acc: 0.9563\n",
      "Epoch 79/100\n",
      "343/343 [==============================] - 0s 632us/step - loss: 0.1251 - acc: 0.9621\n",
      "Epoch 80/100\n",
      "343/343 [==============================] - 0s 717us/step - loss: 0.1166 - acc: 0.9621\n",
      "Epoch 81/100\n",
      "343/343 [==============================] - 0s 732us/step - loss: 0.1299 - acc: 0.9563\n",
      "Epoch 82/100\n",
      "343/343 [==============================] - 0s 643us/step - loss: 0.1229 - acc: 0.9534\n",
      "Epoch 83/100\n"
     ]
    },
    {
     "name": "stdout",
     "output_type": "stream",
     "text": [
      "343/343 [==============================] - 0s 664us/step - loss: 0.1401 - acc: 0.9504\n",
      "Epoch 84/100\n",
      "343/343 [==============================] - 0s 557us/step - loss: 0.1304 - acc: 0.9563\n",
      "Epoch 85/100\n",
      "343/343 [==============================] - 0s 563us/step - loss: 0.1236 - acc: 0.9534\n",
      "Epoch 86/100\n",
      "343/343 [==============================] - 0s 568us/step - loss: 0.1369 - acc: 0.9563\n",
      "Epoch 87/100\n",
      "343/343 [==============================] - 0s 562us/step - loss: 0.1258 - acc: 0.9504\n",
      "Epoch 88/100\n",
      "343/343 [==============================] - 0s 564us/step - loss: 0.1264 - acc: 0.9563\n",
      "Epoch 89/100\n",
      "343/343 [==============================] - 0s 578us/step - loss: 0.1222 - acc: 0.9621\n",
      "Epoch 90/100\n",
      "343/343 [==============================] - 0s 553us/step - loss: 0.1151 - acc: 0.9679\n",
      "Epoch 91/100\n",
      "343/343 [==============================] - 0s 574us/step - loss: 0.1259 - acc: 0.9563\n",
      "Epoch 92/100\n",
      "343/343 [==============================] - 0s 567us/step - loss: 0.1222 - acc: 0.9679\n",
      "Epoch 93/100\n",
      "343/343 [==============================] - 0s 584us/step - loss: 0.1211 - acc: 0.9650\n",
      "Epoch 94/100\n",
      "343/343 [==============================] - 0s 564us/step - loss: 0.1264 - acc: 0.9621\n",
      "Epoch 95/100\n",
      "343/343 [==============================] - 0s 583us/step - loss: 0.1352 - acc: 0.9534\n",
      "Epoch 96/100\n",
      "343/343 [==============================] - 0s 608us/step - loss: 0.1217 - acc: 0.9621\n",
      "Epoch 97/100\n",
      "343/343 [==============================] - 0s 583us/step - loss: 0.1347 - acc: 0.9504\n",
      "Epoch 98/100\n",
      "343/343 [==============================] - 0s 563us/step - loss: 0.1252 - acc: 0.9621\n",
      "Epoch 99/100\n",
      "343/343 [==============================] - 0s 608us/step - loss: 0.1238 - acc: 0.9592\n",
      "Epoch 100/100\n",
      "343/343 [==============================] - 0s 606us/step - loss: 0.1296 - acc: 0.9563\n",
      "39/39 [==============================] - 0s 1ms/step\n",
      "\n",
      "acc: 92.31%\n"
     ]
    }
   ],
   "source": [
    "input_dim = len(data.columns) - 1\n",
    "\n",
    "model = Sequential()\n",
    "model.add(Dense(8, input_dim = input_dim , activation = 'relu'))\n",
    "model.add(Dense(10, activation = 'relu'))\n",
    "model.add(Dense(10, activation = 'relu'))\n",
    "model.add(Dense(10, activation = 'relu'))\n",
    "model.add(Dense(3, activation = 'softmax'))\n",
    "\n",
    "model.compile(loss = 'categorical_crossentropy' , optimizer = 'adam' , metrics = ['accuracy'] )\n",
    "\n",
    "model.fit(train_x, train_y, epochs = 100, batch_size = 2)\n",
    "\n",
    "scores = model.evaluate(test_x, test_y)\n",
    "print(\"\\n%s: %.2f%%\" % (model.metrics_names[1], scores[1]*100))"
   ]
  },
  {
   "cell_type": "code",
   "execution_count": 16,
   "metadata": {},
   "outputs": [
    {
     "name": "stdout",
     "output_type": "stream",
     "text": [
      " the nn predict Bedroom, and the room to find is Bedroom\n",
      " the nn predict Living, and the room to find is Kitchen\n",
      " the nn predict Living, and the room to find is Living\n",
      " the nn predict Kitchen, and the room to find is Kitchen\n",
      " the nn predict Bedroom, and the room to find is Bedroom\n",
      " the nn predict Kitchen, and the room to find is Kitchen\n",
      " the nn predict Living, and the room to find is Living\n",
      " the nn predict Living, and the room to find is Living\n"
     ]
    },
    {
     "name": "stderr",
     "output_type": "stream",
     "text": [
      "/Users/luca/anaconda3/envs/kerasenv/lib/python3.6/site-packages/sklearn/preprocessing/label.py:151: DeprecationWarning: The truth value of an empty array is ambiguous. Returning False, but in future this will result in an error. Use `array.size > 0` to check that an array is not empty.\n",
      "  if diff:\n"
     ]
    }
   ],
   "source": [
    "predictions = model.predict_classes(prediction)\n",
    "prediction_ = np.argmax(to_categorical(predictions), axis = 1)\n",
    "prediction_ = encoder.inverse_transform(prediction_)\n",
    "\n",
    "for i, j in zip(prediction_ , predict_room):\n",
    "    print( \" the nn predict {}, and the room to find is {}\".format(i,j))"
   ]
  },
  {
   "cell_type": "code",
   "execution_count": 23,
   "metadata": {},
   "outputs": [
    {
     "data": {
      "text/plain": [
       "array([0, 2, 2, 1, 0, 1, 2, 2])"
      ]
     },
     "execution_count": 23,
     "metadata": {},
     "output_type": "execute_result"
    }
   ],
   "source": [
    "model.predict_classes(prediction)"
   ]
  },
  {
   "cell_type": "code",
   "execution_count": 24,
   "metadata": {},
   "outputs": [
    {
     "data": {
      "text/plain": [
       "array([[ 42, -54,   1],\n",
       "       [ 44, -52,   0],\n",
       "       [ 45, -51,   0],\n",
       "       [ 39, -57,   0],\n",
       "       [ 41, -55,   1],\n",
       "       [ 39, -57,   0],\n",
       "       [ 48, -48,   0],\n",
       "       [ 44, -52,   0]])"
      ]
     },
     "execution_count": 24,
     "metadata": {},
     "output_type": "execute_result"
    }
   ],
   "source": [
    "prediction"
   ]
  },
  {
   "cell_type": "code",
   "execution_count": 61,
   "metadata": {},
   "outputs": [],
   "source": [
    "test = np.array([[43,-53,1]])"
   ]
  },
  {
   "cell_type": "code",
   "execution_count": 62,
   "metadata": {},
   "outputs": [],
   "source": [
    "pred = model.predict_classes(test)"
   ]
  },
  {
   "cell_type": "code",
   "execution_count": 63,
   "metadata": {},
   "outputs": [
    {
     "name": "stderr",
     "output_type": "stream",
     "text": [
      "/Users/luca/anaconda3/envs/kerasenv/lib/python3.6/site-packages/sklearn/preprocessing/label.py:151: DeprecationWarning: The truth value of an empty array is ambiguous. Returning False, but in future this will result in an error. Use `array.size > 0` to check that an array is not empty.\n",
      "  if diff:\n"
     ]
    }
   ],
   "source": [
    "prediction_ = np.argmax(to_categorical(pred), axis = 1)\n",
    "prediction_ = encoder.inverse_transform(prediction_)"
   ]
  },
  {
   "cell_type": "code",
   "execution_count": 64,
   "metadata": {},
   "outputs": [
    {
     "data": {
      "text/plain": [
       "array(['Bedroom'], dtype=object)"
      ]
     },
     "execution_count": 64,
     "metadata": {},
     "output_type": "execute_result"
    }
   ],
   "source": [
    "prediction_"
   ]
  },
  {
   "cell_type": "code",
   "execution_count": 65,
   "metadata": {},
   "outputs": [],
   "source": [
    "def save_model(model):\n",
    "    # saving model\n",
    "    json_model = model.to_json()\n",
    "    open('model_architecture.json', 'w').write(json_model)\n",
    "    # saving weights\n",
    "    model.save_weights('model_weights.h5', overwrite=True)"
   ]
  },
  {
   "cell_type": "code",
   "execution_count": 66,
   "metadata": {},
   "outputs": [],
   "source": [
    "save_model(model)"
   ]
  },
  {
   "cell_type": "code",
   "execution_count": 67,
   "metadata": {},
   "outputs": [
    {
     "name": "stdout",
     "output_type": "stream",
     "text": [
      "INFO:tensorflow:Froze 105 variables.\n",
      "Converted 105 variables to const ops.\n"
     ]
    }
   ],
   "source": [
    "from keras import backend as K\n",
    "import tensorflow as tf\n",
    "\n",
    "def freeze_session(session, keep_var_names=None, output_names=None, clear_devices=True):\n",
    "    \"\"\"\n",
    "    Freezes the state of a session into a pruned computation graph.\n",
    "\n",
    "    Creates a new computation graph where variable nodes are replaced by\n",
    "    constants taking their current value in the session. The new graph will be\n",
    "    pruned so subgraphs that are not necessary to compute the requested\n",
    "    outputs are removed.\n",
    "    @param session The TensorFlow session to be frozen.\n",
    "    @param keep_var_names A list of variable names that should not be frozen,\n",
    "                          or None to freeze all the variables in the graph.\n",
    "    @param output_names Names of the relevant graph outputs.\n",
    "    @param clear_devices Remove the device directives from the graph for better portability.\n",
    "    @return The frozen graph definition.\n",
    "    \"\"\"\n",
    "    from tensorflow.python.framework.graph_util import convert_variables_to_constants\n",
    "    graph = session.graph\n",
    "    with graph.as_default():\n",
    "        freeze_var_names = list(set(v.op.name for v in tf.global_variables()).difference(keep_var_names or []))\n",
    "        output_names = output_names or []\n",
    "        output_names += [v.op.name for v in tf.global_variables()]\n",
    "        # Graph -> GraphDef ProtoBuf\n",
    "        input_graph_def = graph.as_graph_def()\n",
    "        if clear_devices:\n",
    "            for node in input_graph_def.node:\n",
    "                node.device = \"\"\n",
    "        frozen_graph = convert_variables_to_constants(session, input_graph_def,\n",
    "                                                      output_names, freeze_var_names)\n",
    "        return frozen_graph\n",
    "\n",
    "\n",
    "frozen_graph = freeze_session(K.get_session(),\n",
    "                              output_names=[out.op.name for out in model.outputs])"
   ]
  },
  {
   "cell_type": "code",
   "execution_count": 68,
   "metadata": {},
   "outputs": [
    {
     "data": {
      "text/plain": [
       "'model/tf_model.pb'"
      ]
     },
     "execution_count": 68,
     "metadata": {},
     "output_type": "execute_result"
    }
   ],
   "source": [
    "tf.train.write_graph(frozen_graph, \"model\", \"tf_model.pb\", as_text=False)"
   ]
  },
  {
   "cell_type": "code",
   "execution_count": null,
   "metadata": {},
   "outputs": [],
   "source": []
  }
 ],
 "metadata": {
  "kernelspec": {
   "display_name": "Python 3",
   "language": "python",
   "name": "python3"
  },
  "language_info": {
   "codemirror_mode": {
    "name": "ipython",
    "version": 3
   },
   "file_extension": ".py",
   "mimetype": "text/x-python",
   "name": "python",
   "nbconvert_exporter": "python",
   "pygments_lexer": "ipython3",
   "version": "3.6.5"
  }
 },
 "nbformat": 4,
 "nbformat_minor": 2
}
