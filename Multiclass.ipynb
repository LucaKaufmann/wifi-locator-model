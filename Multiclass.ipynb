{
 "cells": [
  {
   "cell_type": "code",
   "execution_count": 1,
   "metadata": {},
   "outputs": [
    {
     "name": "stderr",
     "output_type": "stream",
     "text": [
      "/Users/luca/anaconda3/envs/kerasenv/lib/python3.6/site-packages/h5py/__init__.py:36: FutureWarning: Conversion of the second argument of issubdtype from `float` to `np.floating` is deprecated. In future, it will be treated as `np.float64 == np.dtype(float).type`.\n",
      "  from ._conv import register_converters as _register_converters\n",
      "Using TensorFlow backend.\n"
     ]
    }
   ],
   "source": [
    "import numpy as np # linear algebra\n",
    "import pandas as pd # data processing, CSV file I/O (e.g. pd.read_csv)\n",
    "\n",
    "import pandas as pd \n",
    "import seaborn as sns\n",
    "import matplotlib.pyplot as plt\n",
    "from sklearn.preprocessing import StandardScaler\n",
    "\n",
    "import numpy as np \n",
    "import pandas as pd \n",
    "import pandas as pd \n",
    "import numpy as np \n",
    "import scipy as sp \n",
    "import sklearn\n",
    "import random \n",
    "import time \n",
    "\n",
    "from sklearn import preprocessing, model_selection\n",
    "\n",
    "\n",
    "from keras.models import Sequential \n",
    "from keras.layers import Dense \n",
    "from keras.utils import np_utils\n",
    "from sklearn.preprocessing import LabelEncoder\n",
    "from keras.utils.np_utils import to_categorical\n",
    "from sklearn.utils import shuffle\n",
    "\n",
    "\n"
   ]
  },
  {
   "cell_type": "code",
   "execution_count": 2,
   "metadata": {},
   "outputs": [],
   "source": [
    "data = pd.read_csv('./data/wifi_values.csv')\n",
    "data.mac = pd.factorize(data.mac)[0]"
   ]
  },
  {
   "cell_type": "code",
   "execution_count": 3,
   "metadata": {},
   "outputs": [],
   "source": [
    "data = shuffle(data)\n",
    "\n",
    "\n",
    "i = 8\n",
    "data_to_predict = data[:i].reset_index(drop = True)\n",
    "predict_room = data_to_predict.location \n",
    "predict_room = np.array(predict_room)\n",
    "prediction = np.array(data_to_predict.drop(['location'],axis= 1))\n",
    "\n",
    "data = data[i:].reset_index(drop = True)"
   ]
  },
  {
   "cell_type": "code",
   "execution_count": 4,
   "metadata": {},
   "outputs": [],
   "source": [
    "X = data.drop(['location'], axis = 1)\n",
    "X = np.array(X)\n",
    "Y = data['location']"
   ]
  },
  {
   "cell_type": "code",
   "execution_count": 5,
   "metadata": {},
   "outputs": [
    {
     "name": "stdout",
     "output_type": "stream",
     "text": [
      "[[0. 1. 0. 0.]\n",
      " [0. 1. 0. 0.]\n",
      " [0. 0. 0. 1.]\n",
      " ...\n",
      " [1. 0. 0. 0.]\n",
      " [0. 0. 1. 0.]\n",
      " [1. 0. 0. 0.]]\n"
     ]
    }
   ],
   "source": [
    "encoder = LabelEncoder()\n",
    "encoder.fit(Y)\n",
    "Y = encoder.transform(Y)\n",
    "Y = np_utils.to_categorical(Y)\n",
    "print(Y)"
   ]
  },
  {
   "cell_type": "code",
   "execution_count": 6,
   "metadata": {},
   "outputs": [],
   "source": [
    "train_x, test_x, train_y, test_y = model_selection.train_test_split(X,Y,test_size = 0.1, random_state = 0)"
   ]
  },
  {
   "cell_type": "code",
   "execution_count": 7,
   "metadata": {},
   "outputs": [
    {
     "name": "stdout",
     "output_type": "stream",
     "text": [
      "Epoch 1/100\n",
      "913/913 [==============================] - 0s 423us/step - loss: 3.6097 - acc: 0.4173\n",
      "Epoch 2/100\n",
      "913/913 [==============================] - 0s 231us/step - loss: 1.0142 - acc: 0.5674\n",
      "Epoch 3/100\n",
      "913/913 [==============================] - 0s 268us/step - loss: 0.8647 - acc: 0.6112\n",
      "Epoch 4/100\n",
      "913/913 [==============================] - 0s 217us/step - loss: 0.7661 - acc: 0.6758\n",
      "Epoch 5/100\n",
      "913/913 [==============================] - 0s 215us/step - loss: 0.6911 - acc: 0.7437\n",
      "Epoch 6/100\n",
      "913/913 [==============================] - 0s 210us/step - loss: 0.6425 - acc: 0.7634\n",
      "Epoch 7/100\n",
      "913/913 [==============================] - 0s 256us/step - loss: 0.5943 - acc: 0.7853\n",
      "Epoch 8/100\n",
      "913/913 [==============================] - 0s 229us/step - loss: 0.5489 - acc: 0.7886\n",
      "Epoch 9/100\n",
      "913/913 [==============================] - 0s 249us/step - loss: 0.5094 - acc: 0.8028\n",
      "Epoch 10/100\n",
      "913/913 [==============================] - 0s 246us/step - loss: 0.4859 - acc: 0.8061\n",
      "Epoch 11/100\n",
      "913/913 [==============================] - 0s 230us/step - loss: 0.4550 - acc: 0.8050\n",
      "Epoch 12/100\n",
      "913/913 [==============================] - 0s 219us/step - loss: 0.4473 - acc: 0.8039\n",
      "Epoch 13/100\n",
      "913/913 [==============================] - 0s 219us/step - loss: 0.4221 - acc: 0.8215\n",
      "Epoch 14/100\n",
      "913/913 [==============================] - 0s 212us/step - loss: 0.4161 - acc: 0.8258\n",
      "Epoch 15/100\n",
      "913/913 [==============================] - 0s 230us/step - loss: 0.4100 - acc: 0.8193\n",
      "Epoch 16/100\n",
      "913/913 [==============================] - 0s 222us/step - loss: 0.4117 - acc: 0.8116\n",
      "Epoch 17/100\n",
      "913/913 [==============================] - 0s 231us/step - loss: 0.4075 - acc: 0.8182\n",
      "Epoch 18/100\n",
      "913/913 [==============================] - 0s 217us/step - loss: 0.4006 - acc: 0.8226\n",
      "Epoch 19/100\n",
      "913/913 [==============================] - 0s 228us/step - loss: 0.4001 - acc: 0.8248\n",
      "Epoch 20/100\n",
      "913/913 [==============================] - 0s 218us/step - loss: 0.3936 - acc: 0.8215\n",
      "Epoch 21/100\n",
      "913/913 [==============================] - 0s 217us/step - loss: 0.3937 - acc: 0.8182\n",
      "Epoch 22/100\n",
      "913/913 [==============================] - 0s 225us/step - loss: 0.4004 - acc: 0.8171\n",
      "Epoch 23/100\n",
      "913/913 [==============================] - 0s 228us/step - loss: 0.3983 - acc: 0.8193\n",
      "Epoch 24/100\n",
      "913/913 [==============================] - 0s 236us/step - loss: 0.4056 - acc: 0.8083\n",
      "Epoch 25/100\n",
      "913/913 [==============================] - 0s 236us/step - loss: 0.3874 - acc: 0.8226\n",
      "Epoch 26/100\n",
      "913/913 [==============================] - 0s 265us/step - loss: 0.3990 - acc: 0.8116\n",
      "Epoch 27/100\n",
      "913/913 [==============================] - 0s 266us/step - loss: 0.3882 - acc: 0.8171\n",
      "Epoch 28/100\n",
      "913/913 [==============================] - 0s 230us/step - loss: 0.3876 - acc: 0.8248\n",
      "Epoch 29/100\n",
      "913/913 [==============================] - 0s 236us/step - loss: 0.3957 - acc: 0.8160\n",
      "Epoch 30/100\n",
      "913/913 [==============================] - 0s 234us/step - loss: 0.3910 - acc: 0.8149\n",
      "Epoch 31/100\n",
      "913/913 [==============================] - 0s 239us/step - loss: 0.3839 - acc: 0.8248\n",
      "Epoch 32/100\n",
      "913/913 [==============================] - 0s 232us/step - loss: 0.3872 - acc: 0.8160\n",
      "Epoch 33/100\n",
      "913/913 [==============================] - 0s 229us/step - loss: 0.3904 - acc: 0.8302\n",
      "Epoch 34/100\n",
      "913/913 [==============================] - 0s 245us/step - loss: 0.3846 - acc: 0.8138\n",
      "Epoch 35/100\n",
      "913/913 [==============================] - 0s 236us/step - loss: 0.3840 - acc: 0.8269\n",
      "Epoch 36/100\n",
      "913/913 [==============================] - 0s 232us/step - loss: 0.3859 - acc: 0.8215\n",
      "Epoch 37/100\n",
      "913/913 [==============================] - 0s 233us/step - loss: 0.3823 - acc: 0.8171\n",
      "Epoch 38/100\n",
      "913/913 [==============================] - 0s 247us/step - loss: 0.3877 - acc: 0.8215\n",
      "Epoch 39/100\n",
      "913/913 [==============================] - 0s 249us/step - loss: 0.3857 - acc: 0.8171\n",
      "Epoch 40/100\n",
      "913/913 [==============================] - 0s 244us/step - loss: 0.3976 - acc: 0.8105\n",
      "Epoch 41/100\n",
      "913/913 [==============================] - 0s 242us/step - loss: 0.3824 - acc: 0.8258\n",
      "Epoch 42/100\n",
      "913/913 [==============================] - 0s 254us/step - loss: 0.3824 - acc: 0.8193\n",
      "Epoch 43/100\n",
      "913/913 [==============================] - 0s 257us/step - loss: 0.3844 - acc: 0.8138\n",
      "Epoch 44/100\n",
      "913/913 [==============================] - 0s 242us/step - loss: 0.3845 - acc: 0.8248\n",
      "Epoch 45/100\n",
      "913/913 [==============================] - 0s 247us/step - loss: 0.3886 - acc: 0.8182\n",
      "Epoch 46/100\n",
      "913/913 [==============================] - 0s 249us/step - loss: 0.3830 - acc: 0.8193\n",
      "Epoch 47/100\n",
      "913/913 [==============================] - 0s 275us/step - loss: 0.3815 - acc: 0.8248\n",
      "Epoch 48/100\n",
      "913/913 [==============================] - 0s 255us/step - loss: 0.3797 - acc: 0.8237\n",
      "Epoch 49/100\n",
      "913/913 [==============================] - 0s 255us/step - loss: 0.3830 - acc: 0.8149\n",
      "Epoch 50/100\n",
      "913/913 [==============================] - 0s 225us/step - loss: 0.3894 - acc: 0.8072\n",
      "Epoch 51/100\n",
      "913/913 [==============================] - 0s 229us/step - loss: 0.3807 - acc: 0.8127\n",
      "Epoch 52/100\n",
      "913/913 [==============================] - 0s 241us/step - loss: 0.3879 - acc: 0.8116\n",
      "Epoch 53/100\n",
      "913/913 [==============================] - 0s 292us/step - loss: 0.3794 - acc: 0.8258\n",
      "Epoch 54/100\n",
      "913/913 [==============================] - 0s 268us/step - loss: 0.3880 - acc: 0.8193\n",
      "Epoch 55/100\n",
      "913/913 [==============================] - 0s 248us/step - loss: 0.3901 - acc: 0.8171\n",
      "Epoch 56/100\n",
      "913/913 [==============================] - 0s 261us/step - loss: 0.3901 - acc: 0.8138\n",
      "Epoch 57/100\n",
      "913/913 [==============================] - 0s 268us/step - loss: 0.3842 - acc: 0.8193\n",
      "Epoch 58/100\n",
      "913/913 [==============================] - 0s 250us/step - loss: 0.3964 - acc: 0.8215\n",
      "Epoch 59/100\n",
      "913/913 [==============================] - 0s 273us/step - loss: 0.3809 - acc: 0.8182\n",
      "Epoch 60/100\n",
      "913/913 [==============================] - 0s 263us/step - loss: 0.3783 - acc: 0.8324\n",
      "Epoch 61/100\n",
      "913/913 [==============================] - 0s 277us/step - loss: 0.3891 - acc: 0.8171\n",
      "Epoch 62/100\n",
      "913/913 [==============================] - 0s 282us/step - loss: 0.3786 - acc: 0.8215\n",
      "Epoch 63/100\n",
      "913/913 [==============================] - 0s 303us/step - loss: 0.3843 - acc: 0.8127\n",
      "Epoch 64/100\n",
      "913/913 [==============================] - 0s 318us/step - loss: 0.3776 - acc: 0.8324\n",
      "Epoch 65/100\n",
      "913/913 [==============================] - 0s 284us/step - loss: 0.3800 - acc: 0.8280\n",
      "Epoch 66/100\n",
      "913/913 [==============================] - 0s 303us/step - loss: 0.3789 - acc: 0.8280\n",
      "Epoch 67/100\n",
      "913/913 [==============================] - 0s 301us/step - loss: 0.3768 - acc: 0.8258\n",
      "Epoch 68/100\n",
      "913/913 [==============================] - 0s 335us/step - loss: 0.3760 - acc: 0.8193\n",
      "Epoch 69/100\n",
      "913/913 [==============================] - 0s 284us/step - loss: 0.3862 - acc: 0.8226\n",
      "Epoch 70/100\n",
      "913/913 [==============================] - 0s 271us/step - loss: 0.3778 - acc: 0.8313\n",
      "Epoch 71/100\n",
      "913/913 [==============================] - 0s 245us/step - loss: 0.4004 - acc: 0.8050\n",
      "Epoch 72/100\n",
      "913/913 [==============================] - 0s 249us/step - loss: 0.3763 - acc: 0.8237\n",
      "Epoch 73/100\n",
      "913/913 [==============================] - 0s 247us/step - loss: 0.3829 - acc: 0.8269\n",
      "Epoch 74/100\n",
      "913/913 [==============================] - 0s 260us/step - loss: 0.3843 - acc: 0.8182\n",
      "Epoch 75/100\n",
      "913/913 [==============================] - 0s 241us/step - loss: 0.3789 - acc: 0.8182\n",
      "Epoch 76/100\n",
      "913/913 [==============================] - 0s 269us/step - loss: 0.3790 - acc: 0.8313\n",
      "Epoch 77/100\n",
      "913/913 [==============================] - 0s 247us/step - loss: 0.3755 - acc: 0.8258\n",
      "Epoch 78/100\n",
      "913/913 [==============================] - 0s 264us/step - loss: 0.3853 - acc: 0.8204\n",
      "Epoch 79/100\n",
      "913/913 [==============================] - 0s 275us/step - loss: 0.3820 - acc: 0.8280\n",
      "Epoch 80/100\n",
      "913/913 [==============================] - 0s 272us/step - loss: 0.3769 - acc: 0.8324\n",
      "Epoch 81/100\n",
      "913/913 [==============================] - 0s 266us/step - loss: 0.3748 - acc: 0.8237\n",
      "Epoch 82/100\n",
      "913/913 [==============================] - 0s 277us/step - loss: 0.3805 - acc: 0.8226\n",
      "Epoch 83/100\n"
     ]
    },
    {
     "name": "stdout",
     "output_type": "stream",
     "text": [
      "913/913 [==============================] - 0s 223us/step - loss: 0.3761 - acc: 0.8269\n",
      "Epoch 84/100\n",
      "913/913 [==============================] - 0s 205us/step - loss: 0.3837 - acc: 0.8269\n",
      "Epoch 85/100\n",
      "913/913 [==============================] - 0s 218us/step - loss: 0.3754 - acc: 0.8237\n",
      "Epoch 86/100\n",
      "913/913 [==============================] - 0s 200us/step - loss: 0.3804 - acc: 0.8226\n",
      "Epoch 87/100\n",
      "913/913 [==============================] - 0s 202us/step - loss: 0.3801 - acc: 0.8226\n",
      "Epoch 88/100\n",
      "913/913 [==============================] - 0s 203us/step - loss: 0.3799 - acc: 0.8258\n",
      "Epoch 89/100\n",
      "913/913 [==============================] - 0s 197us/step - loss: 0.3747 - acc: 0.8237\n",
      "Epoch 90/100\n",
      "913/913 [==============================] - 0s 205us/step - loss: 0.3764 - acc: 0.8280\n",
      "Epoch 91/100\n",
      "913/913 [==============================] - 0s 205us/step - loss: 0.3915 - acc: 0.8072\n",
      "Epoch 92/100\n",
      "913/913 [==============================] - 0s 236us/step - loss: 0.3773 - acc: 0.8193\n",
      "Epoch 93/100\n",
      "913/913 [==============================] - 0s 252us/step - loss: 0.3789 - acc: 0.8237\n",
      "Epoch 94/100\n",
      "913/913 [==============================] - 0s 218us/step - loss: 0.3792 - acc: 0.8258\n",
      "Epoch 95/100\n",
      "913/913 [==============================] - 0s 207us/step - loss: 0.3827 - acc: 0.8237\n",
      "Epoch 96/100\n",
      "913/913 [==============================] - 0s 205us/step - loss: 0.3743 - acc: 0.8291\n",
      "Epoch 97/100\n",
      "913/913 [==============================] - 0s 204us/step - loss: 0.3781 - acc: 0.8248\n",
      "Epoch 98/100\n",
      "913/913 [==============================] - 0s 208us/step - loss: 0.3872 - acc: 0.8138\n",
      "Epoch 99/100\n",
      "913/913 [==============================] - 0s 204us/step - loss: 0.3751 - acc: 0.8291\n",
      "Epoch 100/100\n",
      "913/913 [==============================] - 0s 213us/step - loss: 0.3726 - acc: 0.8269\n",
      "102/102 [==============================] - 0s 273us/step\n",
      "\n",
      "acc: 90.20%\n"
     ]
    }
   ],
   "source": [
    "input_dim = len(data.columns) - 1\n",
    "\n",
    "model = Sequential()\n",
    "model.add(Dense(8, input_dim = input_dim , activation = 'relu'))\n",
    "model.add(Dense(10, activation = 'relu'))\n",
    "model.add(Dense(10, activation = 'relu'))\n",
    "# model.add(Dense(10, activation = 'relu'))\n",
    "model.add(Dense(4, activation = 'softmax'))\n",
    "\n",
    "model.compile(loss = 'categorical_crossentropy' , optimizer = 'adam' , metrics = ['accuracy'] )\n",
    "\n",
    "model.fit(train_x, train_y, epochs = 100, batch_size = 5)\n",
    "\n",
    "scores = model.evaluate(test_x, test_y)\n",
    "print(\"\\n%s: %.2f%%\" % (model.metrics_names[1], scores[1]*100))"
   ]
  },
  {
   "cell_type": "code",
   "execution_count": 8,
   "metadata": {},
   "outputs": [
    {
     "name": "stdout",
     "output_type": "stream",
     "text": [
      " the nn predict Living, and the room to find is Living\n",
      " the nn predict Bedroom, and the room to find is Bedroom\n",
      " the nn predict Living, and the room to find is Living\n",
      " the nn predict Bedroom, and the room to find is Bedroom\n",
      " the nn predict Kitchen, and the room to find is Kitchen\n",
      " the nn predict Living, and the room to find is Living\n",
      " the nn predict Office, and the room to find is Bedroom\n",
      " the nn predict Living, and the room to find is Living\n"
     ]
    },
    {
     "name": "stderr",
     "output_type": "stream",
     "text": [
      "/Users/luca/anaconda3/envs/kerasenv/lib/python3.6/site-packages/sklearn/preprocessing/label.py:151: DeprecationWarning: The truth value of an empty array is ambiguous. Returning False, but in future this will result in an error. Use `array.size > 0` to check that an array is not empty.\n",
      "  if diff:\n"
     ]
    }
   ],
   "source": [
    "predictions = model.predict_classes(prediction)\n",
    "prediction_ = np.argmax(to_categorical(predictions), axis = 1)\n",
    "prediction_ = encoder.inverse_transform(prediction_)\n",
    "\n",
    "for i, j in zip(prediction_ , predict_room):\n",
    "    print( \" the nn predict {}, and the room to find is {}\".format(i,j))"
   ]
  },
  {
   "cell_type": "code",
   "execution_count": 9,
   "metadata": {},
   "outputs": [
    {
     "data": {
      "text/plain": [
       "array([2, 0, 2, 0, 1, 2, 3, 2])"
      ]
     },
     "execution_count": 9,
     "metadata": {},
     "output_type": "execute_result"
    }
   ],
   "source": [
    "model.predict_classes(prediction)"
   ]
  },
  {
   "cell_type": "code",
   "execution_count": 10,
   "metadata": {},
   "outputs": [
    {
     "data": {
      "text/plain": [
       "array([[ 44, -52,   1],\n",
       "       [ 35, -61,   0],\n",
       "       [ 44, -52,   1],\n",
       "       [ 39, -57,   0],\n",
       "       [ 35, -61,   1],\n",
       "       [ 50, -46,   1],\n",
       "       [ 28, -68,   0],\n",
       "       [ 44, -52,   1]])"
      ]
     },
     "execution_count": 10,
     "metadata": {},
     "output_type": "execute_result"
    }
   ],
   "source": [
    "prediction"
   ]
  },
  {
   "cell_type": "code",
   "execution_count": 11,
   "metadata": {},
   "outputs": [],
   "source": [
    "test = np.array([[43,-53,1]])"
   ]
  },
  {
   "cell_type": "code",
   "execution_count": 12,
   "metadata": {},
   "outputs": [],
   "source": [
    "pred = model.predict_classes(test)"
   ]
  },
  {
   "cell_type": "code",
   "execution_count": 13,
   "metadata": {},
   "outputs": [
    {
     "name": "stderr",
     "output_type": "stream",
     "text": [
      "/Users/luca/anaconda3/envs/kerasenv/lib/python3.6/site-packages/sklearn/preprocessing/label.py:151: DeprecationWarning: The truth value of an empty array is ambiguous. Returning False, but in future this will result in an error. Use `array.size > 0` to check that an array is not empty.\n",
      "  if diff:\n"
     ]
    }
   ],
   "source": [
    "prediction_ = np.argmax(to_categorical(pred), axis = 1)\n",
    "prediction_ = encoder.inverse_transform(prediction_)"
   ]
  },
  {
   "cell_type": "code",
   "execution_count": 14,
   "metadata": {},
   "outputs": [
    {
     "data": {
      "text/plain": [
       "array(['Living'], dtype=object)"
      ]
     },
     "execution_count": 14,
     "metadata": {},
     "output_type": "execute_result"
    }
   ],
   "source": [
    "prediction_"
   ]
  },
  {
   "cell_type": "code",
   "execution_count": 15,
   "metadata": {},
   "outputs": [],
   "source": [
    "def save_model(model):\n",
    "    # saving model\n",
    "    json_model = model.to_json()\n",
    "    open('model_architecture.json', 'w').write(json_model)\n",
    "    # saving weights\n",
    "    model.save_weights('model_weights.h5', overwrite=True)"
   ]
  },
  {
   "cell_type": "code",
   "execution_count": 20,
   "metadata": {},
   "outputs": [],
   "source": [
    "# save_model(model)"
   ]
  },
  {
   "cell_type": "code",
   "execution_count": 17,
   "metadata": {},
   "outputs": [
    {
     "name": "stdout",
     "output_type": "stream",
     "text": [
      "INFO:tensorflow:Froze 37 variables.\n",
      "Converted 37 variables to const ops.\n"
     ]
    }
   ],
   "source": [
    "from keras import backend as K\n",
    "import tensorflow as tf\n",
    "\n",
    "def freeze_session(session, keep_var_names=None, output_names=None, clear_devices=True):\n",
    "    \"\"\"\n",
    "    Freezes the state of a session into a pruned computation graph.\n",
    "\n",
    "    Creates a new computation graph where variable nodes are replaced by\n",
    "    constants taking their current value in the session. The new graph will be\n",
    "    pruned so subgraphs that are not necessary to compute the requested\n",
    "    outputs are removed.\n",
    "    @param session The TensorFlow session to be frozen.\n",
    "    @param keep_var_names A list of variable names that should not be frozen,\n",
    "                          or None to freeze all the variables in the graph.\n",
    "    @param output_names Names of the relevant graph outputs.\n",
    "    @param clear_devices Remove the device directives from the graph for better portability.\n",
    "    @return The frozen graph definition.\n",
    "    \"\"\"\n",
    "    from tensorflow.python.framework.graph_util import convert_variables_to_constants\n",
    "    graph = session.graph\n",
    "    with graph.as_default():\n",
    "        freeze_var_names = list(set(v.op.name for v in tf.global_variables()).difference(keep_var_names or []))\n",
    "        output_names = output_names or []\n",
    "        output_names += [v.op.name for v in tf.global_variables()]\n",
    "        # Graph -> GraphDef ProtoBuf\n",
    "        input_graph_def = graph.as_graph_def()\n",
    "        if clear_devices:\n",
    "            for node in input_graph_def.node:\n",
    "                node.device = \"\"\n",
    "        frozen_graph = convert_variables_to_constants(session, input_graph_def,\n",
    "                                                      output_names, freeze_var_names)\n",
    "        return frozen_graph\n",
    "\n",
    "\n",
    "frozen_graph = freeze_session(K.get_session(),\n",
    "                              output_names=[out.op.name for out in model.outputs])"
   ]
  },
  {
   "cell_type": "code",
   "execution_count": 19,
   "metadata": {},
   "outputs": [
    {
     "data": {
      "text/plain": [
       "'model/tf_model.pb'"
      ]
     },
     "execution_count": 19,
     "metadata": {},
     "output_type": "execute_result"
    }
   ],
   "source": [
    "# tf.train.write_graph(frozen_graph, \"model\", \"tf_model.pb\", as_text=False)"
   ]
  },
  {
   "cell_type": "code",
   "execution_count": null,
   "metadata": {},
   "outputs": [],
   "source": []
  },
  {
   "cell_type": "code",
   "execution_count": null,
   "metadata": {},
   "outputs": [],
   "source": []
  },
  {
   "cell_type": "code",
   "execution_count": null,
   "metadata": {},
   "outputs": [],
   "source": []
  }
 ],
 "metadata": {
  "kernelspec": {
   "display_name": "Python 3",
   "language": "python",
   "name": "python3"
  },
  "language_info": {
   "codemirror_mode": {
    "name": "ipython",
    "version": 3
   },
   "file_extension": ".py",
   "mimetype": "text/x-python",
   "name": "python",
   "nbconvert_exporter": "python",
   "pygments_lexer": "ipython3",
   "version": "3.6.5"
  }
 },
 "nbformat": 4,
 "nbformat_minor": 2
}
