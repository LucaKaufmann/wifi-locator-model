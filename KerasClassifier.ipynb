{
 "cells": [
  {
   "cell_type": "code",
   "execution_count": 1,
   "metadata": {},
   "outputs": [
    {
     "name": "stderr",
     "output_type": "stream",
     "text": [
      "/Users/luca/anaconda3/envs/kerasenv/lib/python3.6/site-packages/h5py/__init__.py:36: FutureWarning: Conversion of the second argument of issubdtype from `float` to `np.floating` is deprecated. In future, it will be treated as `np.float64 == np.dtype(float).type`.\n",
      "  from ._conv import register_converters as _register_converters\n",
      "Using TensorFlow backend.\n"
     ]
    }
   ],
   "source": [
    "import numpy\n",
    "import pandas as pd\n",
    "from keras.models import Sequential\n",
    "from keras.layers import Dense\n",
    "from keras.wrappers.scikit_learn import KerasClassifier\n",
    "from keras.utils import np_utils\n",
    "from sklearn.model_selection import cross_val_score\n",
    "from sklearn.model_selection import KFold\n",
    "from sklearn.preprocessing import LabelEncoder\n",
    "from sklearn.pipeline import Pipeline\n",
    "df = pd.read_csv('./data/wifi_values.csv')\n",
    "# df = pd.read_csv('./data/iris.csv')\n",
    "df.mac = pd.factorize(df.mac)[0]\n",
    "#df = df[['rssi', 'signal']]"
   ]
  },
  {
   "cell_type": "code",
   "execution_count": 2,
   "metadata": {
    "scrolled": true
   },
   "outputs": [
    {
     "data": {
      "text/plain": [
       "array(['Living', 'Living', 'Living', 'Living', 'Living', 'Living',\n",
       "       'Living', 'Living', 'Living', 'Living', 'Living', 'Living',\n",
       "       'Living', 'Living', 'Living', 'Living', 'Living', 'Living',\n",
       "       'Living', 'Living', 'Living', 'Living', 'Living', 'Living',\n",
       "       'Living', 'Living', 'Living', 'Living', 'Living', 'Living',\n",
       "       'Living', 'Living', 'Living', 'Living', 'Living', 'Living',\n",
       "       'Living', 'Living', 'Living', 'Living', 'Living', 'Living',\n",
       "       'Living', 'Living', 'Living', 'Living', 'Living', 'Living',\n",
       "       'Living', 'Living', 'Living', 'Living', 'Living', 'Living',\n",
       "       'Living', 'Living', 'Living', 'Living', 'Living', 'Living',\n",
       "       'Living', 'Living', 'Living', 'Living', 'Living', 'Living',\n",
       "       'Living', 'Living', 'Living', 'Living', 'Living', 'Living',\n",
       "       'Living', 'Living', 'Living', 'Living', 'Living', 'Living',\n",
       "       'Living', 'Living', 'Living', 'Living', 'Living', 'Living',\n",
       "       'Living', 'Living', 'Living', 'Living', 'Living', 'Living',\n",
       "       'Living', 'Living', 'Living', 'Living', 'Living', 'Living',\n",
       "       'Living', 'Living', 'Living', 'Living', 'Living', 'Living',\n",
       "       'Living', 'Living', 'Living', 'Living', 'Living', 'Living',\n",
       "       'Living', 'Living', 'Living', 'Living', 'Living', 'Living',\n",
       "       'Living', 'Living', 'Living', 'Living', 'Living', 'Living',\n",
       "       'Living', 'Living', 'Living', 'Living', 'Living', 'Living',\n",
       "       'Living', 'Living', 'Living', 'Living', 'Living', 'Living',\n",
       "       'Living', 'Living', 'Living', 'Living', 'Living', 'Living',\n",
       "       'Living', 'Living', 'Living', 'Living', 'Living', 'Living',\n",
       "       'Living', 'Living', 'Living', 'Living', 'Living', 'Living',\n",
       "       'Living', 'Living', 'Living', 'Living', 'Living', 'Living',\n",
       "       'Living', 'Living', 'Living', 'Living', 'Living', 'Living',\n",
       "       'Living', 'Living', 'Living', 'Living', 'Living', 'Living',\n",
       "       'Bedroom', 'Bedroom', 'Bedroom', 'Bedroom', 'Bedroom', 'Bedroom',\n",
       "       'Bedroom', 'Bedroom', 'Bedroom', 'Bedroom', 'Bedroom', 'Bedroom',\n",
       "       'Bedroom', 'Bedroom', 'Bedroom', 'Bedroom', 'Bedroom', 'Bedroom',\n",
       "       'Bedroom', 'Bedroom', 'Bedroom', 'Bedroom', 'Bedroom', 'Bedroom',\n",
       "       'Bedroom', 'Bedroom', 'Bedroom', 'Bedroom', 'Bedroom', 'Bedroom',\n",
       "       'Bedroom', 'Bedroom', 'Bedroom', 'Bedroom', 'Bedroom', 'Bedroom',\n",
       "       'Bedroom', 'Bedroom', 'Bedroom', 'Bedroom', 'Bedroom', 'Bedroom',\n",
       "       'Bedroom', 'Bedroom', 'Bedroom', 'Bedroom', 'Bedroom', 'Bedroom',\n",
       "       'Bedroom', 'Bedroom', 'Bedroom', 'Bedroom', 'Bedroom', 'Bedroom',\n",
       "       'Bedroom', 'Bedroom', 'Bedroom', 'Bedroom', 'Bedroom', 'Bedroom',\n",
       "       'Bedroom', 'Bedroom', 'Bedroom', 'Bedroom', 'Bedroom', 'Bedroom',\n",
       "       'Bedroom', 'Bedroom', 'Bedroom', 'Bedroom', 'Bedroom', 'Bedroom',\n",
       "       'Bedroom', 'Bedroom', 'Bedroom', 'Bedroom', 'Bedroom', 'Bedroom',\n",
       "       'Bedroom', 'Bedroom', 'Bedroom', 'Bedroom', 'Bedroom', 'Bedroom',\n",
       "       'Bedroom', 'Bedroom', 'Bedroom', 'Bedroom', 'Bedroom', 'Bedroom',\n",
       "       'Bedroom', 'Bedroom', 'Bedroom', 'Bedroom', 'Bedroom', 'Bedroom',\n",
       "       'Kitchen', 'Kitchen', 'Kitchen', 'Kitchen', 'Kitchen', 'Kitchen',\n",
       "       'Kitchen', 'Kitchen', 'Kitchen', 'Kitchen', 'Kitchen', 'Kitchen',\n",
       "       'Kitchen', 'Kitchen', 'Kitchen', 'Kitchen', 'Kitchen', 'Kitchen',\n",
       "       'Kitchen', 'Kitchen', 'Kitchen', 'Kitchen', 'Kitchen', 'Kitchen',\n",
       "       'Kitchen', 'Kitchen', 'Kitchen', 'Kitchen', 'Kitchen', 'Kitchen',\n",
       "       'Kitchen', 'Kitchen', 'Kitchen', 'Kitchen', 'Kitchen', 'Kitchen',\n",
       "       'Kitchen', 'Kitchen', 'Kitchen', 'Kitchen', 'Kitchen', 'Kitchen',\n",
       "       'Kitchen', 'Kitchen', 'Kitchen', 'Kitchen', 'Kitchen', 'Kitchen',\n",
       "       'Kitchen', 'Kitchen', 'Kitchen', 'Kitchen', 'Kitchen', 'Kitchen',\n",
       "       'Kitchen', 'Kitchen', 'Kitchen', 'Kitchen', 'Kitchen', 'Kitchen',\n",
       "       'Kitchen', 'Kitchen', 'Kitchen', 'Kitchen', 'Kitchen', 'Kitchen',\n",
       "       'Kitchen', 'Kitchen', 'Kitchen', 'Kitchen', 'Kitchen', 'Kitchen',\n",
       "       'Kitchen', 'Kitchen', 'Kitchen', 'Kitchen', 'Kitchen', 'Kitchen',\n",
       "       'Kitchen', 'Kitchen', 'Kitchen', 'Kitchen', 'Kitchen', 'Kitchen',\n",
       "       'Kitchen', 'Kitchen', 'Kitchen', 'Kitchen', 'Kitchen', 'Kitchen',\n",
       "       'Kitchen', 'Kitchen', 'Kitchen', 'Kitchen', 'Kitchen', 'Kitchen',\n",
       "       'Kitchen', 'Kitchen', 'Kitchen', 'Kitchen', 'Kitchen', 'Kitchen',\n",
       "       'Kitchen', 'Kitchen', 'Kitchen', 'Kitchen', 'Kitchen', 'Kitchen',\n",
       "       'Kitchen', 'Kitchen', 'Kitchen', 'Kitchen', 'Kitchen', 'Kitchen',\n",
       "       'Kitchen', 'Kitchen', 'Kitchen', 'Kitchen', 'Kitchen', 'Kitchen',\n",
       "       'Kitchen', 'Kitchen', 'Kitchen', 'Kitchen', 'Kitchen', 'Kitchen'],\n",
       "      dtype=object)"
      ]
     },
     "execution_count": 2,
     "metadata": {},
     "output_type": "execute_result"
    }
   ],
   "source": [
    "dataset = df.values\n",
    "dataset[:,3]"
   ]
  },
  {
   "cell_type": "code",
   "execution_count": 3,
   "metadata": {},
   "outputs": [],
   "source": [
    "#df.location = pd.factorize(df.location)[0]\n",
    "#df = df.drop(df[df.mac > 0].index)\n",
    "\n",
    "X = dataset[:,0:3]\n",
    "y = dataset[:,3]\n",
    "encoder = LabelEncoder()\n",
    "encoder.fit(y)\n",
    "encoded_y = encoder.transform(y)\n",
    "# convert integers to dummy variables (i.e. one hot encoded)\n",
    "dummy_y = np_utils.to_categorical(encoded_y)"
   ]
  },
  {
   "cell_type": "code",
   "execution_count": 4,
   "metadata": {},
   "outputs": [],
   "source": [
    "#df.plot(kind='scatter', x='location', y='rssi')\n",
    "\n",
    "seed = 7\n",
    "numpy.random.seed(seed)"
   ]
  },
  {
   "cell_type": "code",
   "execution_count": 5,
   "metadata": {},
   "outputs": [],
   "source": [
    "# define baseline model\n",
    "def baseline_model():\n",
    "\t# create model\n",
    "\tmodel = Sequential()\n",
    "\tmodel.add(Dense(6, input_dim=3, activation='relu'))\n",
    "\tmodel.add(Dense(3, activation='softmax'))\n",
    "\t# Compile model\n",
    "\tmodel.compile(loss='categorical_crossentropy', optimizer='adam', metrics=['accuracy'])\n",
    "\treturn model"
   ]
  },
  {
   "cell_type": "code",
   "execution_count": 6,
   "metadata": {},
   "outputs": [],
   "source": [
    "estimator = KerasClassifier(build_fn=baseline_model, epochs=200, batch_size=25, verbose=0)"
   ]
  },
  {
   "cell_type": "code",
   "execution_count": 7,
   "metadata": {},
   "outputs": [],
   "source": [
    "# X = df.iloc[:,0:3]\n",
    "# y = df.iloc[:,3]"
   ]
  },
  {
   "cell_type": "code",
   "execution_count": 8,
   "metadata": {},
   "outputs": [
    {
     "name": "stdout",
     "output_type": "stream",
     "text": [
      "Baseline: 53.59% (21.80%)\n"
     ]
    }
   ],
   "source": [
    "# from sklearn.preprocessing import StandardScaler\n",
    "# sc = StandardScaler()\n",
    "# X = sc.fit_transform(X)\n",
    "# X\n",
    "# 1\n",
    "kfold = KFold(n_splits=10, shuffle=True, random_state=seed)\n",
    "results = cross_val_score(estimator, X, dummy_y, cv=kfold)\n",
    "print(\"Baseline: %.2f%% (%.2f%%)\" % (results.mean()*100, results.std()*100))"
   ]
  },
  {
   "cell_type": "code",
   "execution_count": 9,
   "metadata": {},
   "outputs": [],
   "source": [
    "from sklearn.model_selection import train_test_split\n",
    "X_train, X_test, y_train, y_test = train_test_split(X, y, test_size=0.3)"
   ]
  },
  {
   "cell_type": "code",
   "execution_count": 10,
   "metadata": {},
   "outputs": [],
   "source": [
    "# from keras import Sequential\n",
    "# from keras.layers import Dense"
   ]
  },
  {
   "cell_type": "code",
   "execution_count": 11,
   "metadata": {},
   "outputs": [],
   "source": [
    "#classifier = Sequential()\n",
    "#First Hidden Layer\n",
    "#classifier.add(Dense(4, activation='relu', kernel_initializer='random_normal', input_dim=3))\n",
    "#Output Layer\n",
    "#classifier.add(Dense(1, activation='sigmoid', kernel_initializer='random_normal'))"
   ]
  },
  {
   "cell_type": "code",
   "execution_count": 12,
   "metadata": {},
   "outputs": [],
   "source": [
    "#Compiling the neural network\n",
    "#classifier.compile(optimizer ='adam',loss='binary_crossentropy', metrics =['accuracy'])"
   ]
  },
  {
   "cell_type": "code",
   "execution_count": 13,
   "metadata": {},
   "outputs": [],
   "source": [
    "#Fitting the data to the training dataset\n",
    "#classifier.fit(X_train,y_train, batch_size=10, epochs=20)"
   ]
  },
  {
   "cell_type": "code",
   "execution_count": 14,
   "metadata": {},
   "outputs": [],
   "source": [
    "# X"
   ]
  },
  {
   "cell_type": "code",
   "execution_count": 15,
   "metadata": {},
   "outputs": [
    {
     "data": {
      "text/plain": [
       "<keras.callbacks.History at 0x1a186867f0>"
      ]
     },
     "execution_count": 15,
     "metadata": {},
     "output_type": "execute_result"
    }
   ],
   "source": [
    "estimator.fit(X, y)"
   ]
  },
  {
   "cell_type": "code",
   "execution_count": 16,
   "metadata": {},
   "outputs": [],
   "source": [
    "def save_model(model):\n",
    "    # saving model\n",
    "    json_model = model.to_json()\n",
    "    open('model_architecture.json', 'w').write(json_model)\n",
    "    # saving weights\n",
    "    model.save_weights('model_weights.h5', overwrite=True)"
   ]
  },
  {
   "cell_type": "code",
   "execution_count": null,
   "metadata": {},
   "outputs": [],
   "source": []
  },
  {
   "cell_type": "code",
   "execution_count": 17,
   "metadata": {},
   "outputs": [],
   "source": [
    "# model = baseline_model()"
   ]
  },
  {
   "cell_type": "code",
   "execution_count": 18,
   "metadata": {},
   "outputs": [],
   "source": [
    "# model.fit(X, dummy_y, epochs=200)"
   ]
  },
  {
   "cell_type": "code",
   "execution_count": 19,
   "metadata": {},
   "outputs": [],
   "source": [
    "# X.shape()"
   ]
  },
  {
   "cell_type": "code",
   "execution_count": 20,
   "metadata": {},
   "outputs": [],
   "source": [
    "# save_model(model)"
   ]
  },
  {
   "cell_type": "code",
   "execution_count": null,
   "metadata": {},
   "outputs": [],
   "source": []
  },
  {
   "cell_type": "code",
   "execution_count": null,
   "metadata": {},
   "outputs": [],
   "source": []
  }
 ],
 "metadata": {
  "kernelspec": {
   "display_name": "Python 3",
   "language": "python",
   "name": "python3"
  },
  "language_info": {
   "codemirror_mode": {
    "name": "ipython",
    "version": 3
   },
   "file_extension": ".py",
   "mimetype": "text/x-python",
   "name": "python",
   "nbconvert_exporter": "python",
   "pygments_lexer": "ipython3",
   "version": "3.6.5"
  }
 },
 "nbformat": 4,
 "nbformat_minor": 2
}
